{
  "nbformat": 4,
  "nbformat_minor": 0,
  "metadata": {
    "colab": {
      "name": "ColabFilterFilms.ipynb",
      "provenance": [],
      "collapsed_sections": [],
      "authorship_tag": "ABX9TyPJbLWCw9LXStHY0U3oHgrN",
      "include_colab_link": true
    },
    "kernelspec": {
      "name": "python3",
      "display_name": "Python 3"
    }
  },
  "cells": [
    {
      "cell_type": "markdown",
      "metadata": {
        "id": "view-in-github",
        "colab_type": "text"
      },
      "source": [
        "<a href=\"https://colab.research.google.com/github/ComaZzo/ColabFiltrationMovielens/blob/master/ColabFilterFilms.ipynb\" target=\"_parent\"><img src=\"https://colab.research.google.com/assets/colab-badge.svg\" alt=\"Open In Colab\"/></a>"
      ]
    },
    {
      "cell_type": "code",
      "metadata": {
        "id": "Wq0q9HIc1kff",
        "colab_type": "code",
        "colab": {}
      },
      "source": [
        "import pandas as pd\n",
        "import numpy as np"
      ],
      "execution_count": 0,
      "outputs": []
    },
    {
      "cell_type": "code",
      "metadata": {
        "id": "Gmssf8bY1rWL",
        "colab_type": "code",
        "colab": {
          "base_uri": "https://localhost:8080/",
          "height": 118
        },
        "outputId": "6c612077-5f4b-4e79-e5c2-f11f37aebdf6"
      },
      "source": [
        "ratings_cols = ['user_id', 'movie_id', 'rating', 'timestamp']\n",
        "ratings = pd.read_csv('u.data', sep='\\t', names=ratings_cols, usecols=range(4))\n",
        "\n",
        "movies_cols = ['movie_id', 'title']\n",
        "movies = pd.read_csv('u.item', sep='|', names=movies_cols, usecols=range(2))\n",
        "\n",
        "ratings = pd.merge(ratings, movies)"
      ],
      "execution_count": 26,
      "outputs": [
        {
          "output_type": "stream",
          "text": [
            "user_id               196\n",
            "movie_id              242\n",
            "rating                  3\n",
            "timestamp       881250949\n",
            "title        Kolya (1996)\n",
            "Name: 0, dtype: object\n"
          ],
          "name": "stdout"
        }
      ]
    },
    {
      "cell_type": "code",
      "metadata": {
        "id": "QtEq9nXR_2iK",
        "colab_type": "code",
        "colab": {
          "base_uri": "https://localhost:8080/",
          "height": 302
        },
        "outputId": "e6fc37f5-945d-4da4-de8b-354739daabef"
      },
      "source": [
        "movieRatings = ratings.pivot_table(index=['user_id'],columns=['title'],values='rating')\n",
        "starWarsRatings = movieRatings['Star Wars (1977)']\n",
        "\n",
        "similarMovies = movieRatings.corrwith(starWarsRatings)\n",
        "\n",
        "similarMovies = similarMovies.dropna()\n",
        "df = pd.DataFrame(similarMovies)"
      ],
      "execution_count": 31,
      "outputs": [
        {
          "output_type": "stream",
          "text": [
            "/usr/local/lib/python3.6/dist-packages/numpy/lib/function_base.py:2526: RuntimeWarning: Degrees of freedom <= 0 for slice\n",
            "  c = cov(x, y, rowvar)\n",
            "/usr/local/lib/python3.6/dist-packages/numpy/lib/function_base.py:2455: RuntimeWarning: divide by zero encountered in true_divide\n",
            "  c *= np.true_divide(1, fact)\n"
          ],
          "name": "stderr"
        },
        {
          "output_type": "stream",
          "text": [
            "title\n",
            "'Til There Was You (1997)                0.872872\n",
            "1-900 (1994)                            -0.645497\n",
            "101 Dalmatians (1996)                    0.211132\n",
            "12 Angry Men (1957)                      0.184289\n",
            "187 (1997)                               0.027398\n",
            "                                           ...   \n",
            "Young Guns II (1990)                     0.228615\n",
            "Young Poisoner's Handbook, The (1995)   -0.007374\n",
            "Zeus and Roxanne (1997)                  0.818182\n",
            "unknown                                  0.723123\n",
            "Á köldum klaka (Cold Fever) (1994)            NaN\n",
            "Length: 1664, dtype: float64\n"
          ],
          "name": "stdout"
        }
      ]
    },
    {
      "cell_type": "code",
      "metadata": {
        "id": "Dz2cVr_82OJf",
        "colab_type": "code",
        "colab": {
          "base_uri": "https://localhost:8080/",
          "height": 550
        },
        "outputId": "79b51aee-f4cb-4711-cc72-07c06eb15ff3"
      },
      "source": [
        "ratingsCount = 100\n",
        "movieStats = ratings.groupby('title').agg({'rating': [np.size, np.mean]})\n",
        "popularMovies = movieStats['rating']['size'] >= ratingsCount\n",
        "movieStats[popularMovies].sort_values([('rating', 'mean')], ascending=False)[:15]\n"
      ],
      "execution_count": 32,
      "outputs": [
        {
          "output_type": "execute_result",
          "data": {
            "text/html": [
              "<div>\n",
              "<style scoped>\n",
              "    .dataframe tbody tr th:only-of-type {\n",
              "        vertical-align: middle;\n",
              "    }\n",
              "\n",
              "    .dataframe tbody tr th {\n",
              "        vertical-align: top;\n",
              "    }\n",
              "\n",
              "    .dataframe thead tr th {\n",
              "        text-align: left;\n",
              "    }\n",
              "\n",
              "    .dataframe thead tr:last-of-type th {\n",
              "        text-align: right;\n",
              "    }\n",
              "</style>\n",
              "<table border=\"1\" class=\"dataframe\">\n",
              "  <thead>\n",
              "    <tr>\n",
              "      <th></th>\n",
              "      <th colspan=\"2\" halign=\"left\">rating</th>\n",
              "    </tr>\n",
              "    <tr>\n",
              "      <th></th>\n",
              "      <th>size</th>\n",
              "      <th>mean</th>\n",
              "    </tr>\n",
              "    <tr>\n",
              "      <th>title</th>\n",
              "      <th></th>\n",
              "      <th></th>\n",
              "    </tr>\n",
              "  </thead>\n",
              "  <tbody>\n",
              "    <tr>\n",
              "      <th>Close Shave, A (1995)</th>\n",
              "      <td>112</td>\n",
              "      <td>4.491071</td>\n",
              "    </tr>\n",
              "    <tr>\n",
              "      <th>Schindler's List (1993)</th>\n",
              "      <td>298</td>\n",
              "      <td>4.466443</td>\n",
              "    </tr>\n",
              "    <tr>\n",
              "      <th>Wrong Trousers, The (1993)</th>\n",
              "      <td>118</td>\n",
              "      <td>4.466102</td>\n",
              "    </tr>\n",
              "    <tr>\n",
              "      <th>Casablanca (1942)</th>\n",
              "      <td>243</td>\n",
              "      <td>4.456790</td>\n",
              "    </tr>\n",
              "    <tr>\n",
              "      <th>Shawshank Redemption, The (1994)</th>\n",
              "      <td>283</td>\n",
              "      <td>4.445230</td>\n",
              "    </tr>\n",
              "    <tr>\n",
              "      <th>Rear Window (1954)</th>\n",
              "      <td>209</td>\n",
              "      <td>4.387560</td>\n",
              "    </tr>\n",
              "    <tr>\n",
              "      <th>Usual Suspects, The (1995)</th>\n",
              "      <td>267</td>\n",
              "      <td>4.385768</td>\n",
              "    </tr>\n",
              "    <tr>\n",
              "      <th>Star Wars (1977)</th>\n",
              "      <td>583</td>\n",
              "      <td>4.358491</td>\n",
              "    </tr>\n",
              "    <tr>\n",
              "      <th>12 Angry Men (1957)</th>\n",
              "      <td>125</td>\n",
              "      <td>4.344000</td>\n",
              "    </tr>\n",
              "    <tr>\n",
              "      <th>Citizen Kane (1941)</th>\n",
              "      <td>198</td>\n",
              "      <td>4.292929</td>\n",
              "    </tr>\n",
              "    <tr>\n",
              "      <th>To Kill a Mockingbird (1962)</th>\n",
              "      <td>219</td>\n",
              "      <td>4.292237</td>\n",
              "    </tr>\n",
              "    <tr>\n",
              "      <th>One Flew Over the Cuckoo's Nest (1975)</th>\n",
              "      <td>264</td>\n",
              "      <td>4.291667</td>\n",
              "    </tr>\n",
              "    <tr>\n",
              "      <th>Silence of the Lambs, The (1991)</th>\n",
              "      <td>390</td>\n",
              "      <td>4.289744</td>\n",
              "    </tr>\n",
              "    <tr>\n",
              "      <th>North by Northwest (1959)</th>\n",
              "      <td>179</td>\n",
              "      <td>4.284916</td>\n",
              "    </tr>\n",
              "    <tr>\n",
              "      <th>Godfather, The (1972)</th>\n",
              "      <td>413</td>\n",
              "      <td>4.283293</td>\n",
              "    </tr>\n",
              "  </tbody>\n",
              "</table>\n",
              "</div>"
            ],
            "text/plain": [
              "                                       rating          \n",
              "                                         size      mean\n",
              "title                                                  \n",
              "Close Shave, A (1995)                     112  4.491071\n",
              "Schindler's List (1993)                   298  4.466443\n",
              "Wrong Trousers, The (1993)                118  4.466102\n",
              "Casablanca (1942)                         243  4.456790\n",
              "Shawshank Redemption, The (1994)          283  4.445230\n",
              "Rear Window (1954)                        209  4.387560\n",
              "Usual Suspects, The (1995)                267  4.385768\n",
              "Star Wars (1977)                          583  4.358491\n",
              "12 Angry Men (1957)                       125  4.344000\n",
              "Citizen Kane (1941)                       198  4.292929\n",
              "To Kill a Mockingbird (1962)              219  4.292237\n",
              "One Flew Over the Cuckoo's Nest (1975)    264  4.291667\n",
              "Silence of the Lambs, The (1991)          390  4.289744\n",
              "North by Northwest (1959)                 179  4.284916\n",
              "Godfather, The (1972)                     413  4.283293"
            ]
          },
          "metadata": {
            "tags": []
          },
          "execution_count": 32
        }
      ]
    },
    {
      "cell_type": "code",
      "metadata": {
        "id": "bW7MA5wrCTbU",
        "colab_type": "code",
        "colab": {
          "base_uri": "https://localhost:8080/",
          "height": 574
        },
        "outputId": "b96754a6-1039-4a4d-8937-fb4dfbe6f629"
      },
      "source": [
        "df = movieStats[popularMovies].join(pd.DataFrame(similarMovies, columns=['similarity']))\n",
        "df.sort_values(['similarity'], ascending=False)[:15]\n"
      ],
      "execution_count": 33,
      "outputs": [
        {
          "output_type": "stream",
          "text": [
            "/usr/local/lib/python3.6/dist-packages/pandas/core/reshape/merge.py:618: UserWarning: merging between different levels can give an unintended result (2 levels on the left, 1 on the right)\n",
            "  warnings.warn(msg, UserWarning)\n"
          ],
          "name": "stderr"
        },
        {
          "output_type": "execute_result",
          "data": {
            "text/html": [
              "<div>\n",
              "<style scoped>\n",
              "    .dataframe tbody tr th:only-of-type {\n",
              "        vertical-align: middle;\n",
              "    }\n",
              "\n",
              "    .dataframe tbody tr th {\n",
              "        vertical-align: top;\n",
              "    }\n",
              "\n",
              "    .dataframe thead th {\n",
              "        text-align: right;\n",
              "    }\n",
              "</style>\n",
              "<table border=\"1\" class=\"dataframe\">\n",
              "  <thead>\n",
              "    <tr style=\"text-align: right;\">\n",
              "      <th></th>\n",
              "      <th>(rating, size)</th>\n",
              "      <th>(rating, mean)</th>\n",
              "      <th>similarity</th>\n",
              "    </tr>\n",
              "    <tr>\n",
              "      <th>title</th>\n",
              "      <th></th>\n",
              "      <th></th>\n",
              "      <th></th>\n",
              "    </tr>\n",
              "  </thead>\n",
              "  <tbody>\n",
              "    <tr>\n",
              "      <th>Star Wars (1977)</th>\n",
              "      <td>583</td>\n",
              "      <td>4.358491</td>\n",
              "      <td>1.000000</td>\n",
              "    </tr>\n",
              "    <tr>\n",
              "      <th>Empire Strikes Back, The (1980)</th>\n",
              "      <td>367</td>\n",
              "      <td>4.204360</td>\n",
              "      <td>0.747981</td>\n",
              "    </tr>\n",
              "    <tr>\n",
              "      <th>Return of the Jedi (1983)</th>\n",
              "      <td>507</td>\n",
              "      <td>4.007890</td>\n",
              "      <td>0.672556</td>\n",
              "    </tr>\n",
              "    <tr>\n",
              "      <th>Raiders of the Lost Ark (1981)</th>\n",
              "      <td>420</td>\n",
              "      <td>4.252381</td>\n",
              "      <td>0.536117</td>\n",
              "    </tr>\n",
              "    <tr>\n",
              "      <th>Austin Powers: International Man of Mystery (1997)</th>\n",
              "      <td>130</td>\n",
              "      <td>3.246154</td>\n",
              "      <td>0.377433</td>\n",
              "    </tr>\n",
              "    <tr>\n",
              "      <th>Sting, The (1973)</th>\n",
              "      <td>241</td>\n",
              "      <td>4.058091</td>\n",
              "      <td>0.367538</td>\n",
              "    </tr>\n",
              "    <tr>\n",
              "      <th>Indiana Jones and the Last Crusade (1989)</th>\n",
              "      <td>331</td>\n",
              "      <td>3.930514</td>\n",
              "      <td>0.350107</td>\n",
              "    </tr>\n",
              "    <tr>\n",
              "      <th>Pinocchio (1940)</th>\n",
              "      <td>101</td>\n",
              "      <td>3.673267</td>\n",
              "      <td>0.347868</td>\n",
              "    </tr>\n",
              "    <tr>\n",
              "      <th>Frighteners, The (1996)</th>\n",
              "      <td>115</td>\n",
              "      <td>3.234783</td>\n",
              "      <td>0.332729</td>\n",
              "    </tr>\n",
              "    <tr>\n",
              "      <th>L.A. Confidential (1997)</th>\n",
              "      <td>297</td>\n",
              "      <td>4.161616</td>\n",
              "      <td>0.319065</td>\n",
              "    </tr>\n",
              "    <tr>\n",
              "      <th>Wag the Dog (1997)</th>\n",
              "      <td>137</td>\n",
              "      <td>3.510949</td>\n",
              "      <td>0.318645</td>\n",
              "    </tr>\n",
              "    <tr>\n",
              "      <th>Dumbo (1941)</th>\n",
              "      <td>123</td>\n",
              "      <td>3.495935</td>\n",
              "      <td>0.317656</td>\n",
              "    </tr>\n",
              "    <tr>\n",
              "      <th>Bridge on the River Kwai, The (1957)</th>\n",
              "      <td>165</td>\n",
              "      <td>4.175758</td>\n",
              "      <td>0.316580</td>\n",
              "    </tr>\n",
              "    <tr>\n",
              "      <th>Philadelphia Story, The (1940)</th>\n",
              "      <td>104</td>\n",
              "      <td>4.115385</td>\n",
              "      <td>0.314272</td>\n",
              "    </tr>\n",
              "    <tr>\n",
              "      <th>Miracle on 34th Street (1994)</th>\n",
              "      <td>101</td>\n",
              "      <td>3.722772</td>\n",
              "      <td>0.310921</td>\n",
              "    </tr>\n",
              "  </tbody>\n",
              "</table>\n",
              "</div>"
            ],
            "text/plain": [
              "                                                    (rating, size)  ...  similarity\n",
              "title                                                               ...            \n",
              "Star Wars (1977)                                               583  ...    1.000000\n",
              "Empire Strikes Back, The (1980)                                367  ...    0.747981\n",
              "Return of the Jedi (1983)                                      507  ...    0.672556\n",
              "Raiders of the Lost Ark (1981)                                 420  ...    0.536117\n",
              "Austin Powers: International Man of Mystery (1997)             130  ...    0.377433\n",
              "Sting, The (1973)                                              241  ...    0.367538\n",
              "Indiana Jones and the Last Crusade (1989)                      331  ...    0.350107\n",
              "Pinocchio (1940)                                               101  ...    0.347868\n",
              "Frighteners, The (1996)                                        115  ...    0.332729\n",
              "L.A. Confidential (1997)                                       297  ...    0.319065\n",
              "Wag the Dog (1997)                                             137  ...    0.318645\n",
              "Dumbo (1941)                                                   123  ...    0.317656\n",
              "Bridge on the River Kwai, The (1957)                           165  ...    0.316580\n",
              "Philadelphia Story, The (1940)                                 104  ...    0.314272\n",
              "Miracle on 34th Street (1994)                                  101  ...    0.310921\n",
              "\n",
              "[15 rows x 3 columns]"
            ]
          },
          "metadata": {
            "tags": []
          },
          "execution_count": 33
        }
      ]
    },
    {
      "cell_type": "code",
      "metadata": {
        "id": "m0fU_2f4CWhk",
        "colab_type": "code",
        "colab": {
          "base_uri": "https://localhost:8080/",
          "height": 269
        },
        "outputId": "f92a354b-0cf3-4c77-81e8-7bf12a8e72be"
      },
      "source": [
        "userRatings = ratings.pivot_table(index=['user_id'],columns=['title'],values='rating')\n",
        "corrMatrix = userRatings.corr(method='pearson', min_periods=100)\n",
        "print(userRatings)"
      ],
      "execution_count": 41,
      "outputs": [
        {
          "output_type": "stream",
          "text": [
            "title    'Til There Was You (1997)  ...  Á köldum klaka (Cold Fever) (1994)\n",
            "user_id                             ...                                    \n",
            "1                              NaN  ...                                 NaN\n",
            "2                              NaN  ...                                 NaN\n",
            "3                              NaN  ...                                 NaN\n",
            "4                              NaN  ...                                 NaN\n",
            "5                              NaN  ...                                 NaN\n",
            "...                            ...  ...                                 ...\n",
            "939                            NaN  ...                                 NaN\n",
            "940                            NaN  ...                                 NaN\n",
            "941                            NaN  ...                                 NaN\n",
            "942                            NaN  ...                                 NaN\n",
            "943                            NaN  ...                                 NaN\n",
            "\n",
            "[943 rows x 1664 columns]\n"
          ],
          "name": "stdout"
        }
      ]
    },
    {
      "cell_type": "code",
      "metadata": {
        "id": "ykY6GrG1C6QQ",
        "colab_type": "code",
        "colab": {
          "base_uri": "https://localhost:8080/",
          "height": 289
        },
        "outputId": "ffcd4890-930c-4750-9d7e-b714a1dd4e83"
      },
      "source": [
        "myRatings = userRatings.iloc[0].dropna()\n",
        "simCandidates = pd.Series()\n",
        "print(myRatings)"
      ],
      "execution_count": 47,
      "outputs": [
        {
          "output_type": "stream",
          "text": [
            "title\n",
            "101 Dalmatians (1996)                  2.0\n",
            "12 Angry Men (1957)                    5.0\n",
            "20,000 Leagues Under the Sea (1954)    3.0\n",
            "2001: A Space Odyssey (1968)           4.0\n",
            "Abyss, The (1989)                      3.0\n",
            "                                      ... \n",
            "Wizard of Oz, The (1939)               4.0\n",
            "Wrong Trousers, The (1993)             5.0\n",
            "Young Frankenstein (1974)              5.0\n",
            "Young Guns (1988)                      3.0\n",
            "unknown                                4.0\n",
            "Name: 1, Length: 271, dtype: float64\n"
          ],
          "name": "stdout"
        },
        {
          "output_type": "stream",
          "text": [
            "/usr/local/lib/python3.6/dist-packages/ipykernel_launcher.py:2: DeprecationWarning: The default dtype for empty Series will be 'object' instead of 'float64' in a future version. Specify a dtype explicitly to silence this warning.\n",
            "  \n"
          ],
          "name": "stderr"
        }
      ]
    },
    {
      "cell_type": "code",
      "metadata": {
        "id": "CqDs7Cmb2RA8",
        "colab_type": "code",
        "colab": {}
      },
      "source": [
        "\n",
        "for i in range(0, len(myRatings.index)):\n",
        "    # Извлекаем фильмы, похожие на оцененные мной\n",
        "    sims = corrMatrix[myRatings.index[i]].dropna()\n",
        "    # Далее оцениваем их сходство в зависимости от того, как я оценил тот или иной фильм\n",
        "    sims = sims.map(lambda x: x * myRatings[i])\n",
        "    # Добавляем индекс в список сравниваемых кандидатов\n",
        "    simCandidates = simCandidates.append(sims)\n",
        "simCandidates.sort_values(inplace=True, ascending=False)"
      ],
      "execution_count": 0,
      "outputs": []
    },
    {
      "cell_type": "code",
      "metadata": {
        "id": "44Q60MBO2SmX",
        "colab_type": "code",
        "colab": {
          "base_uri": "https://localhost:8080/",
          "height": 437
        },
        "outputId": "5c324a25-5b5b-444b-e6a3-e7549f978849"
      },
      "source": [
        "\n",
        "simCandidates = simCandidates.groupby(simCandidates.index).sum()\n",
        "simCandidates.sort_values(inplace = True, ascending = False)\n",
        "print(myRatings)\n",
        "print(simCandidates)\n"
      ],
      "execution_count": 58,
      "outputs": [
        {
          "output_type": "stream",
          "text": [
            "title\n",
            "101 Dalmatians (1996)                  2.0\n",
            "12 Angry Men (1957)                    5.0\n",
            "20,000 Leagues Under the Sea (1954)    3.0\n",
            "2001: A Space Odyssey (1968)           4.0\n",
            "Abyss, The (1989)                      3.0\n",
            "                                      ... \n",
            "Wizard of Oz, The (1939)               4.0\n",
            "Wrong Trousers, The (1993)             5.0\n",
            "Young Frankenstein (1974)              5.0\n",
            "Young Guns (1988)                      3.0\n",
            "unknown                                4.0\n",
            "Name: 1, Length: 271, dtype: float64\n",
            "Raiders of the Lost Ark (1981)               231.260437\n",
            "Back to the Future (1985)                    227.855851\n",
            "Indiana Jones and the Last Crusade (1989)    201.504723\n",
            "Fugitive, The (1993)                         193.903399\n",
            "Return of the Jedi (1983)                    192.196477\n",
            "                                                ...    \n",
            "George of the Jungle (1997)                    0.674360\n",
            "Spawn (1997)                                   0.614461\n",
            "Seven Years in Tibet (1997)                    0.358647\n",
            "Killing Fields, The (1984)                     0.087867\n",
            "Wag the Dog (1997)                            -0.349471\n",
            "Length: 305, dtype: float64\n"
          ],
          "name": "stdout"
        }
      ]
    },
    {
      "cell_type": "code",
      "metadata": {
        "id": "GrV4mKAAFE4-",
        "colab_type": "code",
        "colab": {
          "base_uri": "https://localhost:8080/",
          "height": 218
        },
        "outputId": "c38681a1-7e55-40cd-ba23-4fb8e15c09d2"
      },
      "source": [
        "# filteredSims = simCandidates.drop(index=myRatings.index)\n",
        "filteredSims = simCandidates\n",
        "for i in range(len(simCandidates)):\n",
        "  for j in range(len(myRatings)):\n",
        "    if myRatings.index[j] == simCandidates.index[i]:\n",
        "      filteredSims = filteredSims.drop(index=myRatings.index[j])\n",
        "print(filteredSims)"
      ],
      "execution_count": 59,
      "outputs": [
        {
          "output_type": "stream",
          "text": [
            "E.T. the Extra-Terrestrial (1982)    163.329906\n",
            "Speed (1994)                         158.530237\n",
            "True Lies (1994)                     153.917583\n",
            "Mission: Impossible (1996)           149.292610\n",
            "Stand by Me (1986)                   130.261197\n",
            "                                        ...    \n",
            "Cop Land (1997)                        0.696848\n",
            "Spawn (1997)                           0.614461\n",
            "Seven Years in Tibet (1997)            0.358647\n",
            "Killing Fields, The (1984)             0.087867\n",
            "Wag the Dog (1997)                    -0.349471\n",
            "Length: 132, dtype: float64\n"
          ],
          "name": "stdout"
        }
      ]
    }
  ]
}